{
  "nbformat": 4,
  "nbformat_minor": 0,
  "metadata": {
    "colab": {
      "name": "Titanic.ipynb",
      "provenance": [],
      "collapsed_sections": [
        "9VRhVFbnreAc"
      ]
    },
    "kernelspec": {
      "name": "python3",
      "display_name": "Python 3"
    },
    "language_info": {
      "name": "python"
    }
  },
  "cells": [
    {
      "cell_type": "markdown",
      "source": [
        "# **RMS Titanic**\n",
        "\n",
        "O RMS titanic foi um navio de passageiros Britânico, construído em Março de 1909 e lançado ao mar em Maio de 1911. Foi considerado o navio mais sofisticado, luxuoso e seguro de sua época. \n",
        "Porém sua fama de \"Inafundável\", caiu por terra logo em sua viagem inaugural de Southampton com destino a Nova Iorque, em 10 de abril de 1912, \n",
        "ao colidir com um Iceberg e naufragar com mais de 1500 pessoas a bordo.\n",
        "Tornou-se muito famoso, por ser um dos maiores desastres marítimos em tempos de paz de toda história. \n",
        "Seu naufrágio destacou vários pontos fracos do projeto, deficiências nos procedimentos de evacuação de emergência e falhas nas regulamentações marítima.\n",
        "Até hoje seus destroços atrai várias expedições de exploração e estudos.\n",
        "###### *Fonte:* [WikiPedia](https://pt.wikipedia.org/wiki/RMS_Titanic)\n",
        "\n",
        "--------\n"
      ],
      "metadata": {
        "id": "47EqW83SkSiN"
      }
    },
    {
      "cell_type": "markdown",
      "source": [
        "### **O Projeto:**\n",
        "Com base na história do titanic e de um dataset com informações reais sobre uma parte de seus passageiros,\n",
        "faremos uma análise exploratória com foco nos sobreviventes, para descobrirmos quais classes, genêros e idades tiveram mais chances, \n",
        "assim como a relação dessas três variantes para termos uma idéia comparativa com a nossa própria vida.\n",
        "\n",
        "A principal pergunta a ser respondida por este projeto: *Naquela época quais as chances de eu ter sobrevivido ao naufrágio?*\n",
        "\n",
        "--------"
      ],
      "metadata": {
        "id": "9VRhVFbnreAc"
      }
    },
    {
      "cell_type": "markdown",
      "source": [
        "### **O DataSet:**\n",
        "\n",
        "O arquivo titanic.data disponibilizado pela equipe da Udacity, contém informações reais sobre os passageiros organizadas da seguinte forma:\n",
        "\n",
        "- Survived (Sobreviveu): 0 = Não, 1 = Sim\n",
        "- Pclass (Classe): Classe de ingresso 1 = 1º, 2 = 2º, 3 = 3º\n",
        "- Sex (Sexo): Sexo do passageiro\n",
        "- Age (Idade): Idade em anos\n",
        "- Sibsp: Quantidade de irmãos / cônjuges a bordo do Titanic\n",
        "- Parch: Quantidade de pais / crianças a bordo do Titanic\n",
        "- Ticket (Bilhete): Número do bilhete de embarque\n",
        "- Fare (Tarifa): Tarifa paga pelo Passageiro\n",
        "- Cabin (Cabine): Número de cabine\n",
        "- Embarked (Embarque): Porto de Embarque (C = Cherbourg, Q = Queenstown, S = Southampton)\n",
        "\n",
        "--------"
      ],
      "metadata": {
        "id": "aRv281NJreeg"
      }
    },
    {
      "cell_type": "markdown",
      "source": [
        "##### **Importando o DataSet**\n",
        "1 - Efetuar a leitura do dataset através do Pandas, gerando um DataFrame de nome tit, levando-se em consideração que o arquivo encontra-se na mesma pasta do notebook."
      ],
      "metadata": {
        "id": "XobuTzSjuGl_"
      }
    },
    {
      "cell_type": "code",
      "source": [
        "import numpy as np\n",
        "import pandas as pd "
      ],
      "metadata": {
        "id": "kJyWqiy2yB8P"
      },
      "execution_count": 284,
      "outputs": []
    },
    {
      "cell_type": "code",
      "source": [
        "file = pd.read_csv('titanic.data')\n",
        "\n",
        "tit = pd.DataFrame(file)\n",
        "\n",
        "tit.head()"
      ],
      "metadata": {
        "colab": {
          "base_uri": "https://localhost:8080/",
          "height": 206
        },
        "id": "2ipBoZhYyV3V",
        "outputId": "0410824d-6936-45d3-d688-a467aeba05cd"
      },
      "execution_count": 285,
      "outputs": [
        {
          "output_type": "execute_result",
          "data": {
            "text/html": [
              "\n",
              "  <div id=\"df-0cc216aa-ae8e-4763-928e-244bf5172bea\">\n",
              "    <div class=\"colab-df-container\">\n",
              "      <div>\n",
              "<style scoped>\n",
              "    .dataframe tbody tr th:only-of-type {\n",
              "        vertical-align: middle;\n",
              "    }\n",
              "\n",
              "    .dataframe tbody tr th {\n",
              "        vertical-align: top;\n",
              "    }\n",
              "\n",
              "    .dataframe thead th {\n",
              "        text-align: right;\n",
              "    }\n",
              "</style>\n",
              "<table border=\"1\" class=\"dataframe\">\n",
              "  <thead>\n",
              "    <tr style=\"text-align: right;\">\n",
              "      <th></th>\n",
              "      <th>PassengerId</th>\n",
              "      <th>Survived</th>\n",
              "      <th>Pclass</th>\n",
              "      <th>Name</th>\n",
              "      <th>Sex</th>\n",
              "      <th>Age</th>\n",
              "      <th>SibSp</th>\n",
              "      <th>Parch</th>\n",
              "      <th>Ticket</th>\n",
              "      <th>Fare</th>\n",
              "      <th>Cabin</th>\n",
              "      <th>Embarked</th>\n",
              "    </tr>\n",
              "  </thead>\n",
              "  <tbody>\n",
              "    <tr>\n",
              "      <th>0</th>\n",
              "      <td>1</td>\n",
              "      <td>0</td>\n",
              "      <td>3</td>\n",
              "      <td>Braund, Mr. Owen Harris</td>\n",
              "      <td>male</td>\n",
              "      <td>22.0</td>\n",
              "      <td>1</td>\n",
              "      <td>0</td>\n",
              "      <td>A/5 21171</td>\n",
              "      <td>7.2500</td>\n",
              "      <td>NaN</td>\n",
              "      <td>S</td>\n",
              "    </tr>\n",
              "    <tr>\n",
              "      <th>1</th>\n",
              "      <td>2</td>\n",
              "      <td>1</td>\n",
              "      <td>1</td>\n",
              "      <td>Cumings, Mrs. John Bradley (Florence Briggs Th...</td>\n",
              "      <td>female</td>\n",
              "      <td>38.0</td>\n",
              "      <td>1</td>\n",
              "      <td>0</td>\n",
              "      <td>PC 17599</td>\n",
              "      <td>71.2833</td>\n",
              "      <td>C85</td>\n",
              "      <td>C</td>\n",
              "    </tr>\n",
              "    <tr>\n",
              "      <th>2</th>\n",
              "      <td>3</td>\n",
              "      <td>1</td>\n",
              "      <td>3</td>\n",
              "      <td>Heikkinen, Miss. Laina</td>\n",
              "      <td>female</td>\n",
              "      <td>26.0</td>\n",
              "      <td>0</td>\n",
              "      <td>0</td>\n",
              "      <td>STON/O2. 3101282</td>\n",
              "      <td>7.9250</td>\n",
              "      <td>NaN</td>\n",
              "      <td>S</td>\n",
              "    </tr>\n",
              "    <tr>\n",
              "      <th>3</th>\n",
              "      <td>4</td>\n",
              "      <td>1</td>\n",
              "      <td>1</td>\n",
              "      <td>Futrelle, Mrs. Jacques Heath (Lily May Peel)</td>\n",
              "      <td>female</td>\n",
              "      <td>35.0</td>\n",
              "      <td>1</td>\n",
              "      <td>0</td>\n",
              "      <td>113803</td>\n",
              "      <td>53.1000</td>\n",
              "      <td>C123</td>\n",
              "      <td>S</td>\n",
              "    </tr>\n",
              "    <tr>\n",
              "      <th>4</th>\n",
              "      <td>5</td>\n",
              "      <td>0</td>\n",
              "      <td>3</td>\n",
              "      <td>Allen, Mr. William Henry</td>\n",
              "      <td>male</td>\n",
              "      <td>35.0</td>\n",
              "      <td>0</td>\n",
              "      <td>0</td>\n",
              "      <td>373450</td>\n",
              "      <td>8.0500</td>\n",
              "      <td>NaN</td>\n",
              "      <td>S</td>\n",
              "    </tr>\n",
              "  </tbody>\n",
              "</table>\n",
              "</div>\n",
              "      <button class=\"colab-df-convert\" onclick=\"convertToInteractive('df-0cc216aa-ae8e-4763-928e-244bf5172bea')\"\n",
              "              title=\"Convert this dataframe to an interactive table.\"\n",
              "              style=\"display:none;\">\n",
              "        \n",
              "  <svg xmlns=\"http://www.w3.org/2000/svg\" height=\"24px\"viewBox=\"0 0 24 24\"\n",
              "       width=\"24px\">\n",
              "    <path d=\"M0 0h24v24H0V0z\" fill=\"none\"/>\n",
              "    <path d=\"M18.56 5.44l.94 2.06.94-2.06 2.06-.94-2.06-.94-.94-2.06-.94 2.06-2.06.94zm-11 1L8.5 8.5l.94-2.06 2.06-.94-2.06-.94L8.5 2.5l-.94 2.06-2.06.94zm10 10l.94 2.06.94-2.06 2.06-.94-2.06-.94-.94-2.06-.94 2.06-2.06.94z\"/><path d=\"M17.41 7.96l-1.37-1.37c-.4-.4-.92-.59-1.43-.59-.52 0-1.04.2-1.43.59L10.3 9.45l-7.72 7.72c-.78.78-.78 2.05 0 2.83L4 21.41c.39.39.9.59 1.41.59.51 0 1.02-.2 1.41-.59l7.78-7.78 2.81-2.81c.8-.78.8-2.07 0-2.86zM5.41 20L4 18.59l7.72-7.72 1.47 1.35L5.41 20z\"/>\n",
              "  </svg>\n",
              "      </button>\n",
              "      \n",
              "  <style>\n",
              "    .colab-df-container {\n",
              "      display:flex;\n",
              "      flex-wrap:wrap;\n",
              "      gap: 12px;\n",
              "    }\n",
              "\n",
              "    .colab-df-convert {\n",
              "      background-color: #E8F0FE;\n",
              "      border: none;\n",
              "      border-radius: 50%;\n",
              "      cursor: pointer;\n",
              "      display: none;\n",
              "      fill: #1967D2;\n",
              "      height: 32px;\n",
              "      padding: 0 0 0 0;\n",
              "      width: 32px;\n",
              "    }\n",
              "\n",
              "    .colab-df-convert:hover {\n",
              "      background-color: #E2EBFA;\n",
              "      box-shadow: 0px 1px 2px rgba(60, 64, 67, 0.3), 0px 1px 3px 1px rgba(60, 64, 67, 0.15);\n",
              "      fill: #174EA6;\n",
              "    }\n",
              "\n",
              "    [theme=dark] .colab-df-convert {\n",
              "      background-color: #3B4455;\n",
              "      fill: #D2E3FC;\n",
              "    }\n",
              "\n",
              "    [theme=dark] .colab-df-convert:hover {\n",
              "      background-color: #434B5C;\n",
              "      box-shadow: 0px 1px 3px 1px rgba(0, 0, 0, 0.15);\n",
              "      filter: drop-shadow(0px 1px 2px rgba(0, 0, 0, 0.3));\n",
              "      fill: #FFFFFF;\n",
              "    }\n",
              "  </style>\n",
              "\n",
              "      <script>\n",
              "        const buttonEl =\n",
              "          document.querySelector('#df-0cc216aa-ae8e-4763-928e-244bf5172bea button.colab-df-convert');\n",
              "        buttonEl.style.display =\n",
              "          google.colab.kernel.accessAllowed ? 'block' : 'none';\n",
              "\n",
              "        async function convertToInteractive(key) {\n",
              "          const element = document.querySelector('#df-0cc216aa-ae8e-4763-928e-244bf5172bea');\n",
              "          const dataTable =\n",
              "            await google.colab.kernel.invokeFunction('convertToInteractive',\n",
              "                                                     [key], {});\n",
              "          if (!dataTable) return;\n",
              "\n",
              "          const docLinkHtml = 'Like what you see? Visit the ' +\n",
              "            '<a target=\"_blank\" href=https://colab.research.google.com/notebooks/data_table.ipynb>data table notebook</a>'\n",
              "            + ' to learn more about interactive tables.';\n",
              "          element.innerHTML = '';\n",
              "          dataTable['output_type'] = 'display_data';\n",
              "          await google.colab.output.renderOutput(dataTable, element);\n",
              "          const docLink = document.createElement('div');\n",
              "          docLink.innerHTML = docLinkHtml;\n",
              "          element.appendChild(docLink);\n",
              "        }\n",
              "      </script>\n",
              "    </div>\n",
              "  </div>\n",
              "  "
            ],
            "text/plain": [
              "   PassengerId  Survived  Pclass  ...     Fare Cabin  Embarked\n",
              "0            1         0       3  ...   7.2500   NaN         S\n",
              "1            2         1       1  ...  71.2833   C85         C\n",
              "2            3         1       3  ...   7.9250   NaN         S\n",
              "3            4         1       1  ...  53.1000  C123         S\n",
              "4            5         0       3  ...   8.0500   NaN         S\n",
              "\n",
              "[5 rows x 12 columns]"
            ]
          },
          "metadata": {},
          "execution_count": 285
        }
      ]
    },
    {
      "cell_type": "markdown",
      "source": [
        "##### **Entendendo o DataSet**\n",
        "1 - Qual a estrutura do dataframe? Quantas colunas e linhas?"
      ],
      "metadata": {
        "id": "fqjEc__CynX2"
      }
    },
    {
      "cell_type": "code",
      "source": [
        "tit.info()"
      ],
      "metadata": {
        "colab": {
          "base_uri": "https://localhost:8080/"
        },
        "id": "o4I7zGx10alm",
        "outputId": "e2d2531e-4d95-498a-a454-be13bd291423"
      },
      "execution_count": 286,
      "outputs": [
        {
          "output_type": "stream",
          "name": "stdout",
          "text": [
            "<class 'pandas.core.frame.DataFrame'>\n",
            "RangeIndex: 891 entries, 0 to 890\n",
            "Data columns (total 12 columns):\n",
            " #   Column       Non-Null Count  Dtype  \n",
            "---  ------       --------------  -----  \n",
            " 0   PassengerId  891 non-null    int64  \n",
            " 1   Survived     891 non-null    int64  \n",
            " 2   Pclass       891 non-null    int64  \n",
            " 3   Name         891 non-null    object \n",
            " 4   Sex          891 non-null    object \n",
            " 5   Age          714 non-null    float64\n",
            " 6   SibSp        891 non-null    int64  \n",
            " 7   Parch        891 non-null    int64  \n",
            " 8   Ticket       891 non-null    object \n",
            " 9   Fare         891 non-null    float64\n",
            " 10  Cabin        204 non-null    object \n",
            " 11  Embarked     889 non-null    object \n",
            "dtypes: float64(2), int64(5), object(5)\n",
            "memory usage: 83.7+ KB\n"
          ]
        }
      ]
    },
    {
      "cell_type": "markdown",
      "source": [
        "##### **Preparando o DataSet**"
      ],
      "metadata": {
        "id": "ZuZhsjns05xY"
      }
    },
    {
      "cell_type": "markdown",
      "source": [
        "###### 1 - Excluindo as colunas que não serão úteis para esta análise. (SibSp, Parch, Ticket, Cabin, Embarked)."
      ],
      "metadata": {
        "id": "dQMJ2tsQAin4"
      }
    },
    {
      "cell_type": "code",
      "source": [
        "tit.drop(columns=['SibSp','Parch','Ticket','Cabin','Embarked'], inplace=True)\n",
        "tit.head()"
      ],
      "metadata": {
        "colab": {
          "base_uri": "https://localhost:8080/",
          "height": 206
        },
        "id": "Xb59Vg8f3Hgu",
        "outputId": "999adc9d-0823-4a4d-ce10-fb3b70e2c4cd"
      },
      "execution_count": 287,
      "outputs": [
        {
          "output_type": "execute_result",
          "data": {
            "text/html": [
              "\n",
              "  <div id=\"df-67d4020a-03db-498d-b636-f1bf50246edf\">\n",
              "    <div class=\"colab-df-container\">\n",
              "      <div>\n",
              "<style scoped>\n",
              "    .dataframe tbody tr th:only-of-type {\n",
              "        vertical-align: middle;\n",
              "    }\n",
              "\n",
              "    .dataframe tbody tr th {\n",
              "        vertical-align: top;\n",
              "    }\n",
              "\n",
              "    .dataframe thead th {\n",
              "        text-align: right;\n",
              "    }\n",
              "</style>\n",
              "<table border=\"1\" class=\"dataframe\">\n",
              "  <thead>\n",
              "    <tr style=\"text-align: right;\">\n",
              "      <th></th>\n",
              "      <th>PassengerId</th>\n",
              "      <th>Survived</th>\n",
              "      <th>Pclass</th>\n",
              "      <th>Name</th>\n",
              "      <th>Sex</th>\n",
              "      <th>Age</th>\n",
              "      <th>Fare</th>\n",
              "    </tr>\n",
              "  </thead>\n",
              "  <tbody>\n",
              "    <tr>\n",
              "      <th>0</th>\n",
              "      <td>1</td>\n",
              "      <td>0</td>\n",
              "      <td>3</td>\n",
              "      <td>Braund, Mr. Owen Harris</td>\n",
              "      <td>male</td>\n",
              "      <td>22.0</td>\n",
              "      <td>7.2500</td>\n",
              "    </tr>\n",
              "    <tr>\n",
              "      <th>1</th>\n",
              "      <td>2</td>\n",
              "      <td>1</td>\n",
              "      <td>1</td>\n",
              "      <td>Cumings, Mrs. John Bradley (Florence Briggs Th...</td>\n",
              "      <td>female</td>\n",
              "      <td>38.0</td>\n",
              "      <td>71.2833</td>\n",
              "    </tr>\n",
              "    <tr>\n",
              "      <th>2</th>\n",
              "      <td>3</td>\n",
              "      <td>1</td>\n",
              "      <td>3</td>\n",
              "      <td>Heikkinen, Miss. Laina</td>\n",
              "      <td>female</td>\n",
              "      <td>26.0</td>\n",
              "      <td>7.9250</td>\n",
              "    </tr>\n",
              "    <tr>\n",
              "      <th>3</th>\n",
              "      <td>4</td>\n",
              "      <td>1</td>\n",
              "      <td>1</td>\n",
              "      <td>Futrelle, Mrs. Jacques Heath (Lily May Peel)</td>\n",
              "      <td>female</td>\n",
              "      <td>35.0</td>\n",
              "      <td>53.1000</td>\n",
              "    </tr>\n",
              "    <tr>\n",
              "      <th>4</th>\n",
              "      <td>5</td>\n",
              "      <td>0</td>\n",
              "      <td>3</td>\n",
              "      <td>Allen, Mr. William Henry</td>\n",
              "      <td>male</td>\n",
              "      <td>35.0</td>\n",
              "      <td>8.0500</td>\n",
              "    </tr>\n",
              "  </tbody>\n",
              "</table>\n",
              "</div>\n",
              "      <button class=\"colab-df-convert\" onclick=\"convertToInteractive('df-67d4020a-03db-498d-b636-f1bf50246edf')\"\n",
              "              title=\"Convert this dataframe to an interactive table.\"\n",
              "              style=\"display:none;\">\n",
              "        \n",
              "  <svg xmlns=\"http://www.w3.org/2000/svg\" height=\"24px\"viewBox=\"0 0 24 24\"\n",
              "       width=\"24px\">\n",
              "    <path d=\"M0 0h24v24H0V0z\" fill=\"none\"/>\n",
              "    <path d=\"M18.56 5.44l.94 2.06.94-2.06 2.06-.94-2.06-.94-.94-2.06-.94 2.06-2.06.94zm-11 1L8.5 8.5l.94-2.06 2.06-.94-2.06-.94L8.5 2.5l-.94 2.06-2.06.94zm10 10l.94 2.06.94-2.06 2.06-.94-2.06-.94-.94-2.06-.94 2.06-2.06.94z\"/><path d=\"M17.41 7.96l-1.37-1.37c-.4-.4-.92-.59-1.43-.59-.52 0-1.04.2-1.43.59L10.3 9.45l-7.72 7.72c-.78.78-.78 2.05 0 2.83L4 21.41c.39.39.9.59 1.41.59.51 0 1.02-.2 1.41-.59l7.78-7.78 2.81-2.81c.8-.78.8-2.07 0-2.86zM5.41 20L4 18.59l7.72-7.72 1.47 1.35L5.41 20z\"/>\n",
              "  </svg>\n",
              "      </button>\n",
              "      \n",
              "  <style>\n",
              "    .colab-df-container {\n",
              "      display:flex;\n",
              "      flex-wrap:wrap;\n",
              "      gap: 12px;\n",
              "    }\n",
              "\n",
              "    .colab-df-convert {\n",
              "      background-color: #E8F0FE;\n",
              "      border: none;\n",
              "      border-radius: 50%;\n",
              "      cursor: pointer;\n",
              "      display: none;\n",
              "      fill: #1967D2;\n",
              "      height: 32px;\n",
              "      padding: 0 0 0 0;\n",
              "      width: 32px;\n",
              "    }\n",
              "\n",
              "    .colab-df-convert:hover {\n",
              "      background-color: #E2EBFA;\n",
              "      box-shadow: 0px 1px 2px rgba(60, 64, 67, 0.3), 0px 1px 3px 1px rgba(60, 64, 67, 0.15);\n",
              "      fill: #174EA6;\n",
              "    }\n",
              "\n",
              "    [theme=dark] .colab-df-convert {\n",
              "      background-color: #3B4455;\n",
              "      fill: #D2E3FC;\n",
              "    }\n",
              "\n",
              "    [theme=dark] .colab-df-convert:hover {\n",
              "      background-color: #434B5C;\n",
              "      box-shadow: 0px 1px 3px 1px rgba(0, 0, 0, 0.15);\n",
              "      filter: drop-shadow(0px 1px 2px rgba(0, 0, 0, 0.3));\n",
              "      fill: #FFFFFF;\n",
              "    }\n",
              "  </style>\n",
              "\n",
              "      <script>\n",
              "        const buttonEl =\n",
              "          document.querySelector('#df-67d4020a-03db-498d-b636-f1bf50246edf button.colab-df-convert');\n",
              "        buttonEl.style.display =\n",
              "          google.colab.kernel.accessAllowed ? 'block' : 'none';\n",
              "\n",
              "        async function convertToInteractive(key) {\n",
              "          const element = document.querySelector('#df-67d4020a-03db-498d-b636-f1bf50246edf');\n",
              "          const dataTable =\n",
              "            await google.colab.kernel.invokeFunction('convertToInteractive',\n",
              "                                                     [key], {});\n",
              "          if (!dataTable) return;\n",
              "\n",
              "          const docLinkHtml = 'Like what you see? Visit the ' +\n",
              "            '<a target=\"_blank\" href=https://colab.research.google.com/notebooks/data_table.ipynb>data table notebook</a>'\n",
              "            + ' to learn more about interactive tables.';\n",
              "          element.innerHTML = '';\n",
              "          dataTable['output_type'] = 'display_data';\n",
              "          await google.colab.output.renderOutput(dataTable, element);\n",
              "          const docLink = document.createElement('div');\n",
              "          docLink.innerHTML = docLinkHtml;\n",
              "          element.appendChild(docLink);\n",
              "        }\n",
              "      </script>\n",
              "    </div>\n",
              "  </div>\n",
              "  "
            ],
            "text/plain": [
              "   PassengerId  Survived  Pclass  ...     Sex   Age     Fare\n",
              "0            1         0       3  ...    male  22.0   7.2500\n",
              "1            2         1       1  ...  female  38.0  71.2833\n",
              "2            3         1       3  ...  female  26.0   7.9250\n",
              "3            4         1       1  ...  female  35.0  53.1000\n",
              "4            5         0       3  ...    male  35.0   8.0500\n",
              "\n",
              "[5 rows x 7 columns]"
            ]
          },
          "metadata": {},
          "execution_count": 287
        }
      ]
    },
    {
      "cell_type": "markdown",
      "source": [
        "###### 2 - Analisando as colunas que não estão completamente preenchidas e que podem impactar na análise."
      ],
      "metadata": {
        "id": "lh3wRqgY4M2C"
      }
    },
    {
      "cell_type": "code",
      "source": [
        "tit.isnull().sum()"
      ],
      "metadata": {
        "colab": {
          "base_uri": "https://localhost:8080/"
        },
        "id": "VQH5LSt14jWb",
        "outputId": "ae6b1bd3-44b2-4a22-f435-097978d7048d"
      },
      "execution_count": 288,
      "outputs": [
        {
          "output_type": "execute_result",
          "data": {
            "text/plain": [
              "PassengerId      0\n",
              "Survived         0\n",
              "Pclass           0\n",
              "Name             0\n",
              "Sex              0\n",
              "Age            177\n",
              "Fare             0\n",
              "dtype: int64"
            ]
          },
          "metadata": {},
          "execution_count": 288
        }
      ]
    },
    {
      "cell_type": "markdown",
      "source": [
        "Com o comando acima, encontramos 177 registros sem preenchimento de Idade.                                                                          \n",
        "Como \"Idade\" é um atributo importante para as futuras métricas, devemos preencher as lacunas com um valor que não impacte na análise.                    \n",
        "Pensando em perguntas do tipo: *Qual a faixa de idade de maior sobrevivência?*, não podemos preencher com a média das idades que existem no dataset, pois depois não seria possível separá-los.\n",
        "Portanto, verificando se não existe nenhum campo menor ou igual a zero, preencheremos os vazios com \"0\" (Zero)."
      ],
      "metadata": {
        "id": "j80ku7vn6MJU"
      }
    },
    {
      "cell_type": "code",
      "source": [
        "tit[tit['Age'] <= 0]"
      ],
      "metadata": {
        "colab": {
          "base_uri": "https://localhost:8080/",
          "height": 50
        },
        "id": "CYAAzt465_1_",
        "outputId": "ccf1fc10-6a30-4bab-cd87-d62cba4048d8"
      },
      "execution_count": 289,
      "outputs": [
        {
          "output_type": "execute_result",
          "data": {
            "text/html": [
              "\n",
              "  <div id=\"df-37d18a80-04f3-4a3c-8afc-f124a25cc3d4\">\n",
              "    <div class=\"colab-df-container\">\n",
              "      <div>\n",
              "<style scoped>\n",
              "    .dataframe tbody tr th:only-of-type {\n",
              "        vertical-align: middle;\n",
              "    }\n",
              "\n",
              "    .dataframe tbody tr th {\n",
              "        vertical-align: top;\n",
              "    }\n",
              "\n",
              "    .dataframe thead th {\n",
              "        text-align: right;\n",
              "    }\n",
              "</style>\n",
              "<table border=\"1\" class=\"dataframe\">\n",
              "  <thead>\n",
              "    <tr style=\"text-align: right;\">\n",
              "      <th></th>\n",
              "      <th>PassengerId</th>\n",
              "      <th>Survived</th>\n",
              "      <th>Pclass</th>\n",
              "      <th>Name</th>\n",
              "      <th>Sex</th>\n",
              "      <th>Age</th>\n",
              "      <th>Fare</th>\n",
              "    </tr>\n",
              "  </thead>\n",
              "  <tbody>\n",
              "  </tbody>\n",
              "</table>\n",
              "</div>\n",
              "      <button class=\"colab-df-convert\" onclick=\"convertToInteractive('df-37d18a80-04f3-4a3c-8afc-f124a25cc3d4')\"\n",
              "              title=\"Convert this dataframe to an interactive table.\"\n",
              "              style=\"display:none;\">\n",
              "        \n",
              "  <svg xmlns=\"http://www.w3.org/2000/svg\" height=\"24px\"viewBox=\"0 0 24 24\"\n",
              "       width=\"24px\">\n",
              "    <path d=\"M0 0h24v24H0V0z\" fill=\"none\"/>\n",
              "    <path d=\"M18.56 5.44l.94 2.06.94-2.06 2.06-.94-2.06-.94-.94-2.06-.94 2.06-2.06.94zm-11 1L8.5 8.5l.94-2.06 2.06-.94-2.06-.94L8.5 2.5l-.94 2.06-2.06.94zm10 10l.94 2.06.94-2.06 2.06-.94-2.06-.94-.94-2.06-.94 2.06-2.06.94z\"/><path d=\"M17.41 7.96l-1.37-1.37c-.4-.4-.92-.59-1.43-.59-.52 0-1.04.2-1.43.59L10.3 9.45l-7.72 7.72c-.78.78-.78 2.05 0 2.83L4 21.41c.39.39.9.59 1.41.59.51 0 1.02-.2 1.41-.59l7.78-7.78 2.81-2.81c.8-.78.8-2.07 0-2.86zM5.41 20L4 18.59l7.72-7.72 1.47 1.35L5.41 20z\"/>\n",
              "  </svg>\n",
              "      </button>\n",
              "      \n",
              "  <style>\n",
              "    .colab-df-container {\n",
              "      display:flex;\n",
              "      flex-wrap:wrap;\n",
              "      gap: 12px;\n",
              "    }\n",
              "\n",
              "    .colab-df-convert {\n",
              "      background-color: #E8F0FE;\n",
              "      border: none;\n",
              "      border-radius: 50%;\n",
              "      cursor: pointer;\n",
              "      display: none;\n",
              "      fill: #1967D2;\n",
              "      height: 32px;\n",
              "      padding: 0 0 0 0;\n",
              "      width: 32px;\n",
              "    }\n",
              "\n",
              "    .colab-df-convert:hover {\n",
              "      background-color: #E2EBFA;\n",
              "      box-shadow: 0px 1px 2px rgba(60, 64, 67, 0.3), 0px 1px 3px 1px rgba(60, 64, 67, 0.15);\n",
              "      fill: #174EA6;\n",
              "    }\n",
              "\n",
              "    [theme=dark] .colab-df-convert {\n",
              "      background-color: #3B4455;\n",
              "      fill: #D2E3FC;\n",
              "    }\n",
              "\n",
              "    [theme=dark] .colab-df-convert:hover {\n",
              "      background-color: #434B5C;\n",
              "      box-shadow: 0px 1px 3px 1px rgba(0, 0, 0, 0.15);\n",
              "      filter: drop-shadow(0px 1px 2px rgba(0, 0, 0, 0.3));\n",
              "      fill: #FFFFFF;\n",
              "    }\n",
              "  </style>\n",
              "\n",
              "      <script>\n",
              "        const buttonEl =\n",
              "          document.querySelector('#df-37d18a80-04f3-4a3c-8afc-f124a25cc3d4 button.colab-df-convert');\n",
              "        buttonEl.style.display =\n",
              "          google.colab.kernel.accessAllowed ? 'block' : 'none';\n",
              "\n",
              "        async function convertToInteractive(key) {\n",
              "          const element = document.querySelector('#df-37d18a80-04f3-4a3c-8afc-f124a25cc3d4');\n",
              "          const dataTable =\n",
              "            await google.colab.kernel.invokeFunction('convertToInteractive',\n",
              "                                                     [key], {});\n",
              "          if (!dataTable) return;\n",
              "\n",
              "          const docLinkHtml = 'Like what you see? Visit the ' +\n",
              "            '<a target=\"_blank\" href=https://colab.research.google.com/notebooks/data_table.ipynb>data table notebook</a>'\n",
              "            + ' to learn more about interactive tables.';\n",
              "          element.innerHTML = '';\n",
              "          dataTable['output_type'] = 'display_data';\n",
              "          await google.colab.output.renderOutput(dataTable, element);\n",
              "          const docLink = document.createElement('div');\n",
              "          docLink.innerHTML = docLinkHtml;\n",
              "          element.appendChild(docLink);\n",
              "        }\n",
              "      </script>\n",
              "    </div>\n",
              "  </div>\n",
              "  "
            ],
            "text/plain": [
              "Empty DataFrame\n",
              "Columns: [PassengerId, Survived, Pclass, Name, Sex, Age, Fare]\n",
              "Index: []"
            ]
          },
          "metadata": {},
          "execution_count": 289
        }
      ]
    },
    {
      "cell_type": "markdown",
      "source": [
        "Não existe nenhum campo menor ou igual a zero.\n",
        "\n"
      ],
      "metadata": {
        "id": "2plxXD8n96vl"
      }
    },
    {
      "cell_type": "code",
      "source": [
        "# Preenchendo os vazios da coluna Age com \"0\" \n",
        "tit.update(tit['Age'].fillna(0))"
      ],
      "metadata": {
        "id": "w47DOYY1-X8j"
      },
      "execution_count": 290,
      "outputs": []
    },
    {
      "cell_type": "markdown",
      "source": [
        "Conferindo a quantidade de registros afetados."
      ],
      "metadata": {
        "id": "nKUSXlql_Bsh"
      }
    },
    {
      "cell_type": "code",
      "source": [
        "tit[tit['Age'] == 0].count()['Age']"
      ],
      "metadata": {
        "colab": {
          "base_uri": "https://localhost:8080/"
        },
        "id": "3BGQRLVi_Mks",
        "outputId": "ca005217-396e-43c4-993c-17303274752b"
      },
      "execution_count": 291,
      "outputs": [
        {
          "output_type": "execute_result",
          "data": {
            "text/plain": [
              "177"
            ]
          },
          "metadata": {},
          "execution_count": 291
        }
      ]
    },
    {
      "cell_type": "markdown",
      "source": [
        "Analisando novamente as colunas não preenchidas."
      ],
      "metadata": {
        "id": "J-IcbVBp_h7p"
      }
    },
    {
      "cell_type": "code",
      "source": [
        "tit.isnull().sum()"
      ],
      "metadata": {
        "colab": {
          "base_uri": "https://localhost:8080/"
        },
        "id": "Gvx1uXO3_v82",
        "outputId": "23970e90-561d-4ae0-e8a3-8d7e2ea1bb47"
      },
      "execution_count": 292,
      "outputs": [
        {
          "output_type": "execute_result",
          "data": {
            "text/plain": [
              "PassengerId    0\n",
              "Survived       0\n",
              "Pclass         0\n",
              "Name           0\n",
              "Sex            0\n",
              "Age            0\n",
              "Fare           0\n",
              "dtype: int64"
            ]
          },
          "metadata": {},
          "execution_count": 292
        }
      ]
    },
    {
      "cell_type": "markdown",
      "source": [
        "###### 3 - Renomeando as colunas restantes para a lingua portuguesa, utilizando os seguintes nomes de colunas: IdPassageiro, Sobreviveu, Classe, Nome, Sexo, Idade e Tarifa."
      ],
      "metadata": {
        "id": "y0D3JBtf_9Q-"
      }
    },
    {
      "cell_type": "code",
      "source": [
        "tit.rename(\n",
        "    columns= {'PassengerId' :'IdPassageiro',\n",
        "              'Survived'    :'Sobreviveu',\n",
        "              'Pclass'      :'Classe',\n",
        "              'Name'        :'Nome',\n",
        "              'Sex'         :'Sexo',\n",
        "              'Age'         :'Idade',\n",
        "              'Fare'        :'Tarifa'\n",
        "              } , inplace = True   \n",
        "           )\n",
        "\n",
        "tit.head()"
      ],
      "metadata": {
        "colab": {
          "base_uri": "https://localhost:8080/",
          "height": 206
        },
        "id": "lwROwmIbBqr2",
        "outputId": "b15a5936-cb10-47d0-f828-e37e254f7ad5"
      },
      "execution_count": 294,
      "outputs": [
        {
          "output_type": "execute_result",
          "data": {
            "text/html": [
              "\n",
              "  <div id=\"df-ab37ac5c-cd6a-406e-a3f0-5f5a4ef60541\">\n",
              "    <div class=\"colab-df-container\">\n",
              "      <div>\n",
              "<style scoped>\n",
              "    .dataframe tbody tr th:only-of-type {\n",
              "        vertical-align: middle;\n",
              "    }\n",
              "\n",
              "    .dataframe tbody tr th {\n",
              "        vertical-align: top;\n",
              "    }\n",
              "\n",
              "    .dataframe thead th {\n",
              "        text-align: right;\n",
              "    }\n",
              "</style>\n",
              "<table border=\"1\" class=\"dataframe\">\n",
              "  <thead>\n",
              "    <tr style=\"text-align: right;\">\n",
              "      <th></th>\n",
              "      <th>IdPassageiro</th>\n",
              "      <th>Sobreviveu</th>\n",
              "      <th>Classe</th>\n",
              "      <th>Nome</th>\n",
              "      <th>Sexo</th>\n",
              "      <th>Idade</th>\n",
              "      <th>Tarifa</th>\n",
              "    </tr>\n",
              "  </thead>\n",
              "  <tbody>\n",
              "    <tr>\n",
              "      <th>0</th>\n",
              "      <td>1</td>\n",
              "      <td>0</td>\n",
              "      <td>3</td>\n",
              "      <td>Braund, Mr. Owen Harris</td>\n",
              "      <td>male</td>\n",
              "      <td>22.0</td>\n",
              "      <td>7.2500</td>\n",
              "    </tr>\n",
              "    <tr>\n",
              "      <th>1</th>\n",
              "      <td>2</td>\n",
              "      <td>1</td>\n",
              "      <td>1</td>\n",
              "      <td>Cumings, Mrs. John Bradley (Florence Briggs Th...</td>\n",
              "      <td>female</td>\n",
              "      <td>38.0</td>\n",
              "      <td>71.2833</td>\n",
              "    </tr>\n",
              "    <tr>\n",
              "      <th>2</th>\n",
              "      <td>3</td>\n",
              "      <td>1</td>\n",
              "      <td>3</td>\n",
              "      <td>Heikkinen, Miss. Laina</td>\n",
              "      <td>female</td>\n",
              "      <td>26.0</td>\n",
              "      <td>7.9250</td>\n",
              "    </tr>\n",
              "    <tr>\n",
              "      <th>3</th>\n",
              "      <td>4</td>\n",
              "      <td>1</td>\n",
              "      <td>1</td>\n",
              "      <td>Futrelle, Mrs. Jacques Heath (Lily May Peel)</td>\n",
              "      <td>female</td>\n",
              "      <td>35.0</td>\n",
              "      <td>53.1000</td>\n",
              "    </tr>\n",
              "    <tr>\n",
              "      <th>4</th>\n",
              "      <td>5</td>\n",
              "      <td>0</td>\n",
              "      <td>3</td>\n",
              "      <td>Allen, Mr. William Henry</td>\n",
              "      <td>male</td>\n",
              "      <td>35.0</td>\n",
              "      <td>8.0500</td>\n",
              "    </tr>\n",
              "  </tbody>\n",
              "</table>\n",
              "</div>\n",
              "      <button class=\"colab-df-convert\" onclick=\"convertToInteractive('df-ab37ac5c-cd6a-406e-a3f0-5f5a4ef60541')\"\n",
              "              title=\"Convert this dataframe to an interactive table.\"\n",
              "              style=\"display:none;\">\n",
              "        \n",
              "  <svg xmlns=\"http://www.w3.org/2000/svg\" height=\"24px\"viewBox=\"0 0 24 24\"\n",
              "       width=\"24px\">\n",
              "    <path d=\"M0 0h24v24H0V0z\" fill=\"none\"/>\n",
              "    <path d=\"M18.56 5.44l.94 2.06.94-2.06 2.06-.94-2.06-.94-.94-2.06-.94 2.06-2.06.94zm-11 1L8.5 8.5l.94-2.06 2.06-.94-2.06-.94L8.5 2.5l-.94 2.06-2.06.94zm10 10l.94 2.06.94-2.06 2.06-.94-2.06-.94-.94-2.06-.94 2.06-2.06.94z\"/><path d=\"M17.41 7.96l-1.37-1.37c-.4-.4-.92-.59-1.43-.59-.52 0-1.04.2-1.43.59L10.3 9.45l-7.72 7.72c-.78.78-.78 2.05 0 2.83L4 21.41c.39.39.9.59 1.41.59.51 0 1.02-.2 1.41-.59l7.78-7.78 2.81-2.81c.8-.78.8-2.07 0-2.86zM5.41 20L4 18.59l7.72-7.72 1.47 1.35L5.41 20z\"/>\n",
              "  </svg>\n",
              "      </button>\n",
              "      \n",
              "  <style>\n",
              "    .colab-df-container {\n",
              "      display:flex;\n",
              "      flex-wrap:wrap;\n",
              "      gap: 12px;\n",
              "    }\n",
              "\n",
              "    .colab-df-convert {\n",
              "      background-color: #E8F0FE;\n",
              "      border: none;\n",
              "      border-radius: 50%;\n",
              "      cursor: pointer;\n",
              "      display: none;\n",
              "      fill: #1967D2;\n",
              "      height: 32px;\n",
              "      padding: 0 0 0 0;\n",
              "      width: 32px;\n",
              "    }\n",
              "\n",
              "    .colab-df-convert:hover {\n",
              "      background-color: #E2EBFA;\n",
              "      box-shadow: 0px 1px 2px rgba(60, 64, 67, 0.3), 0px 1px 3px 1px rgba(60, 64, 67, 0.15);\n",
              "      fill: #174EA6;\n",
              "    }\n",
              "\n",
              "    [theme=dark] .colab-df-convert {\n",
              "      background-color: #3B4455;\n",
              "      fill: #D2E3FC;\n",
              "    }\n",
              "\n",
              "    [theme=dark] .colab-df-convert:hover {\n",
              "      background-color: #434B5C;\n",
              "      box-shadow: 0px 1px 3px 1px rgba(0, 0, 0, 0.15);\n",
              "      filter: drop-shadow(0px 1px 2px rgba(0, 0, 0, 0.3));\n",
              "      fill: #FFFFFF;\n",
              "    }\n",
              "  </style>\n",
              "\n",
              "      <script>\n",
              "        const buttonEl =\n",
              "          document.querySelector('#df-ab37ac5c-cd6a-406e-a3f0-5f5a4ef60541 button.colab-df-convert');\n",
              "        buttonEl.style.display =\n",
              "          google.colab.kernel.accessAllowed ? 'block' : 'none';\n",
              "\n",
              "        async function convertToInteractive(key) {\n",
              "          const element = document.querySelector('#df-ab37ac5c-cd6a-406e-a3f0-5f5a4ef60541');\n",
              "          const dataTable =\n",
              "            await google.colab.kernel.invokeFunction('convertToInteractive',\n",
              "                                                     [key], {});\n",
              "          if (!dataTable) return;\n",
              "\n",
              "          const docLinkHtml = 'Like what you see? Visit the ' +\n",
              "            '<a target=\"_blank\" href=https://colab.research.google.com/notebooks/data_table.ipynb>data table notebook</a>'\n",
              "            + ' to learn more about interactive tables.';\n",
              "          element.innerHTML = '';\n",
              "          dataTable['output_type'] = 'display_data';\n",
              "          await google.colab.output.renderOutput(dataTable, element);\n",
              "          const docLink = document.createElement('div');\n",
              "          docLink.innerHTML = docLinkHtml;\n",
              "          element.appendChild(docLink);\n",
              "        }\n",
              "      </script>\n",
              "    </div>\n",
              "  </div>\n",
              "  "
            ],
            "text/plain": [
              "   IdPassageiro  Sobreviveu  Classe  ...    Sexo Idade   Tarifa\n",
              "0             1           0       3  ...    male  22.0   7.2500\n",
              "1             2           1       1  ...  female  38.0  71.2833\n",
              "2             3           1       3  ...  female  26.0   7.9250\n",
              "3             4           1       1  ...  female  35.0  53.1000\n",
              "4             5           0       3  ...    male  35.0   8.0500\n",
              "\n",
              "[5 rows x 7 columns]"
            ]
          },
          "metadata": {},
          "execution_count": 294
        }
      ]
    },
    {
      "cell_type": "markdown",
      "source": [
        "###### 4 - Alterando os valores da coluna Sobreviveu para:\n",
        "- 0 => Não\n",
        "- 1 => Sim"
      ],
      "metadata": {
        "id": "SGQBiFBtUcn7"
      }
    },
    {
      "cell_type": "code",
      "source": [
        "tit['Sobreviveu'] = tit['Sobreviveu'].map({ 0 : 'Não', 1 : 'Sim'})\n",
        "tit['Sobreviveu'].unique()"
      ],
      "metadata": {
        "colab": {
          "base_uri": "https://localhost:8080/"
        },
        "id": "_Pc4acRWUuXu",
        "outputId": "f2cbb2bf-b285-4f4a-83f1-b32ad62b60d8"
      },
      "execution_count": 295,
      "outputs": [
        {
          "output_type": "execute_result",
          "data": {
            "text/plain": [
              "array(['Não', 'Sim'], dtype=object)"
            ]
          },
          "metadata": {},
          "execution_count": 295
        }
      ]
    },
    {
      "cell_type": "markdown",
      "source": [
        "###### 5 - Alterando os valores da coluna Sexo para:\n",
        "- female => Mulher\n",
        "- male   => Homem"
      ],
      "metadata": {
        "id": "gV3tn_YhVWKr"
      }
    },
    {
      "cell_type": "code",
      "source": [
        "tit['Sexo'] = tit['Sexo'].map({ 'female' : 'Mulher', 'male' : 'Homem'})\n",
        "tit['Sexo'].unique()"
      ],
      "metadata": {
        "colab": {
          "base_uri": "https://localhost:8080/"
        },
        "id": "5ts9yFo8Vf4r",
        "outputId": "ca287ecc-a345-4030-9d2f-ab23ec079ff6"
      },
      "execution_count": 296,
      "outputs": [
        {
          "output_type": "execute_result",
          "data": {
            "text/plain": [
              "array(['Homem', 'Mulher'], dtype=object)"
            ]
          },
          "metadata": {},
          "execution_count": 296
        }
      ]
    },
    {
      "cell_type": "markdown",
      "source": [
        "### **Os Insights:**\n",
        "\n",
        "Com o DataSet analisado e preparado, podemos elaborar os insights com foco na sobrevivência dos tripulantes.\n",
        "\n",
        "\n",
        "--------"
      ],
      "metadata": {
        "id": "yGEauaGEWo1Y"
      }
    },
    {
      "cell_type": "markdown",
      "source": [
        "##### 1 - Importando as Bibliotecas MatPlotLib e SeaBorn, para exibir alguns gráficos. "
      ],
      "metadata": {
        "id": "nJXdGKW5Z_37"
      }
    },
    {
      "cell_type": "code",
      "source": [
        "import matplotlib.pyplot as plt\n",
        "import seaborn as sns"
      ],
      "metadata": {
        "id": "z1fgYn-EaN1w"
      },
      "execution_count": 297,
      "outputs": []
    },
    {
      "cell_type": "markdown",
      "source": [
        "##### 2 - Representando graficamente a quantidade de sobreviventes e não sobreviventes."
      ],
      "metadata": {
        "id": "SmRITqk4CtHL"
      }
    },
    {
      "cell_type": "code",
      "source": [
        "plt.figure(figsize=(6,3))\n",
        "colors = ['Red','Green']\n",
        "sns.set_palette(colors)\n",
        "ax = sns.countplot(x='Sobreviveu', data=tit)\n",
        "plt.title('Sobreviventes')\n",
        "plt.ylabel('')\n",
        "plt.xlabel('')\n",
        "for p in ax.patches:\n",
        "    ax.annotate(f'\\n{p.get_height()}', (p.get_x()+0.2, p.get_height()), ha='center', va='top', color='white', size=20)\n",
        "plt.show()"
      ],
      "metadata": {
        "colab": {
          "base_uri": "https://localhost:8080/",
          "height": 227
        },
        "id": "5LxJ0YvJ0jvW",
        "outputId": "46c17782-1620-4893-9033-24e216790f56"
      },
      "execution_count": 298,
      "outputs": [
        {
          "output_type": "display_data",
          "data": {
            "image/png": "[encoded data removed]",
            "text/plain": [
              "<Figure size 432x216 with 1 Axes>"
            ]
          },
          "metadata": {
            "needs_background": "light"
          }
        }
      ]
    },
    {
      "cell_type": "markdown",
      "source": [
        "##### 3 - Representando graficamente a quantidade de sobreviventes por sexo."
      ],
      "metadata": {
        "id": "9kKGdVqpDKFK"
      }
    },
    {
      "cell_type": "code",
      "source": [
        "Sobrev_Sexo = tit[tit['Sobreviveu'] == 'Sim']\n",
        "plt.figure(figsize=(6,3))\n",
        "colors = ['#FF00C0','Blue']\n",
        "sns.set_palette(colors)\n",
        "ax = sns.countplot(x='Sexo', data=Sobrev_Sexo)\n",
        "plt.title('Sobreviventes por Sexo')\n",
        "plt.ylabel('')\n",
        "plt.xlabel('')\n",
        "for p in ax.patches:\n",
        "    ax.annotate(f'\\n{p.get_height()}', (p.get_x()+0.2, p.get_height()), ha='center', va='top', color='white', size=20)\n",
        "plt.show()"
      ],
      "metadata": {
        "colab": {
          "base_uri": "https://localhost:8080/",
          "height": 227
        },
        "id": "BZ4RmnofWDB-",
        "outputId": "26fd6b07-5b1b-4332-beca-5e60c4b0e33e"
      },
      "execution_count": 299,
      "outputs": [
        {
          "output_type": "display_data",
          "data": {
            "image/png": "[encoded data removed]",
            "text/plain": [
              "<Figure size 432x216 with 1 Axes>"
            ]
          },
          "metadata": {
            "needs_background": "light"
          }
        }
      ]
    },
    {
      "cell_type": "markdown",
      "source": [
        "##### 4 - Representando graficamente a quantidade de sobreviventes por classe."
      ],
      "metadata": {
        "id": "wkmJqitbDZ3B"
      }
    },
    {
      "cell_type": "code",
      "source": [
        "Sobrev_Classe = tit[tit['Sobreviveu'] == 'Sim']\n",
        "plt.figure(figsize=(6,3))\n",
        "colors = ['#FF00C0','Blue','Purple']\n",
        "sns.set_palette(colors)\n",
        "ax = sns.countplot(x='Classe', data=Sobrev_Classe)\n",
        "plt.title('Sobreviventes por Classe')\n",
        "plt.ylabel('')\n",
        "plt.xlabel('')\n",
        "for p in ax.patches:\n",
        "    ax.annotate(f'\\n{p.get_height()}', (p.get_x()+0.2, p.get_height()), ha='center', va='top', color='white', size=20)\n",
        "plt.show()"
      ],
      "metadata": {
        "colab": {
          "base_uri": "https://localhost:8080/",
          "height": 227
        },
        "id": "0o0ZpcsnfT-E",
        "outputId": "179b9f70-aeb4-4b7c-a806-7a593fa0f908"
      },
      "execution_count": 300,
      "outputs": [
        {
          "output_type": "display_data",
          "data": {
            "image/png": "[encoded data removed]",
            "text/plain": [
              "<Figure size 432x216 with 1 Axes>"
            ]
          },
          "metadata": {
            "needs_background": "light"
          }
        }
      ]
    },
    {
      "cell_type": "markdown",
      "source": [
        "##### 5 - Representando graficamente a quantidade de sobreviventes por faixa etária."
      ],
      "metadata": {
        "id": "1AW2C0oEDkOM"
      }
    },
    {
      "cell_type": "code",
      "source": [
        "## Criando uma nova coluna chamada \"Faixa_Idade\"\n",
        "\n",
        "tit['Faixa_Idade'] = 'Sem Classificação'\n",
        "tit.loc[tit['Idade'].between(0.1, 11.99, inclusive=True), 'Faixa_Idade'] = 'Crianças'\n",
        "tit.loc[tit['Idade'].between(12 , 17.99, inclusive=True), 'Faixa_Idade'] = 'Adolescente'\n",
        "tit.loc[tit['Idade'].between(18 , 29.99, inclusive=True), 'Faixa_Idade'] = 'Jovem'\n",
        "tit.loc[tit['Idade'].between(30 , 59.99, inclusive=True), 'Faixa_Idade'] = 'Adulto'\n",
        "tit.loc[tit['Idade'].between(60 , 200  , inclusive=True), 'Faixa_Idade'] = 'Idoso'\n",
        "tit['Faixa_Idade'].unique()\n"
      ],
      "metadata": {
        "colab": {
          "base_uri": "https://localhost:8080/"
        },
        "id": "m4gkgviS5MWN",
        "outputId": "8ffcd2d7-9230-4939-e2c6-771455023336"
      },
      "execution_count": 301,
      "outputs": [
        {
          "output_type": "execute_result",
          "data": {
            "text/plain": [
              "array(['Jovem', 'Adulto', 'Sem Classificação', 'Crianças', 'Adolescente',\n",
              "       'Idoso'], dtype=object)"
            ]
          },
          "metadata": {},
          "execution_count": 301
        }
      ]
    },
    {
      "cell_type": "code",
      "source": [
        "Sobrev_Idade = tit[tit['Sobreviveu'] == 'Sim']\n",
        "plt.figure(figsize=(10,6))\n",
        "colors = ['#FF00C0','Blue','Purple']\n",
        "sns.set_palette(colors)\n",
        "ax = sns.countplot(x='Faixa_Idade', data=Sobrev_Idade)\n",
        "plt.title('Sobreviventes por Faixa Etária')\n",
        "plt.ylabel('')\n",
        "plt.xlabel('')\n",
        "for p in ax.patches:\n",
        "    ax.annotate(f'\\n{p.get_height()}', (p.get_x()+0.2, p.get_height()), ha='left', va='center', color='black', size=20)\n",
        "plt.show()"
      ],
      "metadata": {
        "colab": {
          "base_uri": "https://localhost:8080/",
          "height": 390
        },
        "id": "Z62R77OmqsW6",
        "outputId": "537d670c-acac-4d6a-8d00-7d3d853a473f"
      },
      "execution_count": 302,
      "outputs": [
        {
          "output_type": "display_data",
          "data": {
            "image/png": "[encoded data removed]",
            "text/plain": [
              "<Figure size 720x432 with 1 Axes>"
            ]
          },
          "metadata": {
            "needs_background": "light"
          }
        }
      ]
    },
    {
      "cell_type": "markdown",
      "source": [
        "###### No gráfico acima mostra 52 registros \"Sem Classificação\" devido a falta das idades no DataSet.\n",
        "Para os próximos indicadores estaremos desconsiderando estes registros.\n",
        "\n",
        "Então o total de sobreviventes por Faixa Etária será de:\n",
        "\n"
      ],
      "metadata": {
        "id": "bVTrUFW_XXqm"
      }
    },
    {
      "cell_type": "code",
      "source": [
        "tit.loc[(tit['Sobreviveu'] == 'Sim') & (tit['Faixa_Idade'] != 'Sem Classificação') ,'Sobreviveu'].count()"
      ],
      "metadata": {
        "colab": {
          "base_uri": "https://localhost:8080/"
        },
        "id": "Nh49Y7mXc1mM",
        "outputId": "ab1033fe-f7e5-4bf3-dca3-64949b388b13"
      },
      "execution_count": 303,
      "outputs": [
        {
          "output_type": "execute_result",
          "data": {
            "text/plain": [
              "290"
            ]
          },
          "metadata": {},
          "execution_count": 303
        }
      ]
    },
    {
      "cell_type": "markdown",
      "source": [
        "##### 6 - Exibindo as 5 combinações (Faixa_Idade, Sexo e Classe) que mais sobreviveram."
      ],
      "metadata": {
        "id": "WyXPuJJc4moQ"
      }
    },
    {
      "cell_type": "code",
      "source": [
        "tit2 = pd.DataFrame( tit.loc[(tit['Sobreviveu'] == 'Sim') & (tit['Faixa_Idade'] != 'Sem Classificação'), \n",
        "                             ['Faixa_Idade','Sexo','Classe','Sobreviveu']\n",
        "                            ].groupby(['Faixa_Idade','Sexo','Classe'],as_index = False).count())\n",
        "\n",
        "tit2['Percentual'] = round(tit2['Sobreviveu'] / tit2['Sobreviveu'].sum() * 100, 2)\n",
        "\n",
        "tit2['Percentual'] = pd.Series([\"{0:.2f}%\".format(val) for val in tit2['Percentual']])\n",
        "\n",
        "tit2.sort_values('Sobreviveu', ascending=False).head(5).reset_index(drop=True)"
      ],
      "metadata": {
        "colab": {
          "base_uri": "https://localhost:8080/",
          "height": 206
        },
        "id": "MI1Y2ersEZ2-",
        "outputId": "11131036-b192-44a6-ccf5-ca476e62dcc6"
      },
      "execution_count": 304,
      "outputs": [
        {
          "output_type": "execute_result",
          "data": {
            "text/html": [
              "\n",
              "  <div id=\"df-ebc84c3c-d683-4ccf-b224-06d59d4b6c8e\">\n",
              "    <div class=\"colab-df-container\">\n",
              "      <div>\n",
              "<style scoped>\n",
              "    .dataframe tbody tr th:only-of-type {\n",
              "        vertical-align: middle;\n",
              "    }\n",
              "\n",
              "    .dataframe tbody tr th {\n",
              "        vertical-align: top;\n",
              "    }\n",
              "\n",
              "    .dataframe thead th {\n",
              "        text-align: right;\n",
              "    }\n",
              "</style>\n",
              "<table border=\"1\" class=\"dataframe\">\n",
              "  <thead>\n",
              "    <tr style=\"text-align: right;\">\n",
              "      <th></th>\n",
              "      <th>Faixa_Idade</th>\n",
              "      <th>Sexo</th>\n",
              "      <th>Classe</th>\n",
              "      <th>Sobreviveu</th>\n",
              "      <th>Percentual</th>\n",
              "    </tr>\n",
              "  </thead>\n",
              "  <tbody>\n",
              "    <tr>\n",
              "      <th>0</th>\n",
              "      <td>Adulto</td>\n",
              "      <td>Mulher</td>\n",
              "      <td>1</td>\n",
              "      <td>51</td>\n",
              "      <td>17.59%</td>\n",
              "    </tr>\n",
              "    <tr>\n",
              "      <th>1</th>\n",
              "      <td>Adulto</td>\n",
              "      <td>Mulher</td>\n",
              "      <td>2</td>\n",
              "      <td>30</td>\n",
              "      <td>10.34%</td>\n",
              "    </tr>\n",
              "    <tr>\n",
              "      <th>2</th>\n",
              "      <td>Jovem</td>\n",
              "      <td>Mulher</td>\n",
              "      <td>2</td>\n",
              "      <td>26</td>\n",
              "      <td>8.97%</td>\n",
              "    </tr>\n",
              "    <tr>\n",
              "      <th>3</th>\n",
              "      <td>Adulto</td>\n",
              "      <td>Homem</td>\n",
              "      <td>1</td>\n",
              "      <td>25</td>\n",
              "      <td>8.62%</td>\n",
              "    </tr>\n",
              "    <tr>\n",
              "      <th>4</th>\n",
              "      <td>Jovem</td>\n",
              "      <td>Mulher</td>\n",
              "      <td>1</td>\n",
              "      <td>21</td>\n",
              "      <td>7.24%</td>\n",
              "    </tr>\n",
              "  </tbody>\n",
              "</table>\n",
              "</div>\n",
              "      <button class=\"colab-df-convert\" onclick=\"convertToInteractive('df-ebc84c3c-d683-4ccf-b224-06d59d4b6c8e')\"\n",
              "              title=\"Convert this dataframe to an interactive table.\"\n",
              "              style=\"display:none;\">\n",
              "        \n",
              "  <svg xmlns=\"http://www.w3.org/2000/svg\" height=\"24px\"viewBox=\"0 0 24 24\"\n",
              "       width=\"24px\">\n",
              "    <path d=\"M0 0h24v24H0V0z\" fill=\"none\"/>\n",
              "    <path d=\"M18.56 5.44l.94 2.06.94-2.06 2.06-.94-2.06-.94-.94-2.06-.94 2.06-2.06.94zm-11 1L8.5 8.5l.94-2.06 2.06-.94-2.06-.94L8.5 2.5l-.94 2.06-2.06.94zm10 10l.94 2.06.94-2.06 2.06-.94-2.06-.94-.94-2.06-.94 2.06-2.06.94z\"/><path d=\"M17.41 7.96l-1.37-1.37c-.4-.4-.92-.59-1.43-.59-.52 0-1.04.2-1.43.59L10.3 9.45l-7.72 7.72c-.78.78-.78 2.05 0 2.83L4 21.41c.39.39.9.59 1.41.59.51 0 1.02-.2 1.41-.59l7.78-7.78 2.81-2.81c.8-.78.8-2.07 0-2.86zM5.41 20L4 18.59l7.72-7.72 1.47 1.35L5.41 20z\"/>\n",
              "  </svg>\n",
              "      </button>\n",
              "      \n",
              "  <style>\n",
              "    .colab-df-container {\n",
              "      display:flex;\n",
              "      flex-wrap:wrap;\n",
              "      gap: 12px;\n",
              "    }\n",
              "\n",
              "    .colab-df-convert {\n",
              "      background-color: #E8F0FE;\n",
              "      border: none;\n",
              "      border-radius: 50%;\n",
              "      cursor: pointer;\n",
              "      display: none;\n",
              "      fill: #1967D2;\n",
              "      height: 32px;\n",
              "      padding: 0 0 0 0;\n",
              "      width: 32px;\n",
              "    }\n",
              "\n",
              "    .colab-df-convert:hover {\n",
              "      background-color: #E2EBFA;\n",
              "      box-shadow: 0px 1px 2px rgba(60, 64, 67, 0.3), 0px 1px 3px 1px rgba(60, 64, 67, 0.15);\n",
              "      fill: #174EA6;\n",
              "    }\n",
              "\n",
              "    [theme=dark] .colab-df-convert {\n",
              "      background-color: #3B4455;\n",
              "      fill: #D2E3FC;\n",
              "    }\n",
              "\n",
              "    [theme=dark] .colab-df-convert:hover {\n",
              "      background-color: #434B5C;\n",
              "      box-shadow: 0px 1px 3px 1px rgba(0, 0, 0, 0.15);\n",
              "      filter: drop-shadow(0px 1px 2px rgba(0, 0, 0, 0.3));\n",
              "      fill: #FFFFFF;\n",
              "    }\n",
              "  </style>\n",
              "\n",
              "      <script>\n",
              "        const buttonEl =\n",
              "          document.querySelector('#df-ebc84c3c-d683-4ccf-b224-06d59d4b6c8e button.colab-df-convert');\n",
              "        buttonEl.style.display =\n",
              "          google.colab.kernel.accessAllowed ? 'block' : 'none';\n",
              "\n",
              "        async function convertToInteractive(key) {\n",
              "          const element = document.querySelector('#df-ebc84c3c-d683-4ccf-b224-06d59d4b6c8e');\n",
              "          const dataTable =\n",
              "            await google.colab.kernel.invokeFunction('convertToInteractive',\n",
              "                                                     [key], {});\n",
              "          if (!dataTable) return;\n",
              "\n",
              "          const docLinkHtml = 'Like what you see? Visit the ' +\n",
              "            '<a target=\"_blank\" href=https://colab.research.google.com/notebooks/data_table.ipynb>data table notebook</a>'\n",
              "            + ' to learn more about interactive tables.';\n",
              "          element.innerHTML = '';\n",
              "          dataTable['output_type'] = 'display_data';\n",
              "          await google.colab.output.renderOutput(dataTable, element);\n",
              "          const docLink = document.createElement('div');\n",
              "          docLink.innerHTML = docLinkHtml;\n",
              "          element.appendChild(docLink);\n",
              "        }\n",
              "      </script>\n",
              "    </div>\n",
              "  </div>\n",
              "  "
            ],
            "text/plain": [
              "  Faixa_Idade    Sexo  Classe  Sobreviveu Percentual\n",
              "0      Adulto  Mulher       1          51     17.59%\n",
              "1      Adulto  Mulher       2          30     10.34%\n",
              "2       Jovem  Mulher       2          26      8.97%\n",
              "3      Adulto   Homem       1          25      8.62%\n",
              "4       Jovem  Mulher       1          21      7.24%"
            ]
          },
          "metadata": {},
          "execution_count": 304
        }
      ]
    },
    {
      "cell_type": "markdown",
      "source": [
        "##### 7 - Exibindo as 5 combinações (Faixa_Idade e Sexo) que mais sobreviveram."
      ],
      "metadata": {
        "id": "JnxERriRPY1y"
      }
    },
    {
      "cell_type": "code",
      "source": [
        "tit3 = pd.DataFrame( tit.loc[(tit['Sobreviveu'] == 'Sim') & (tit['Faixa_Idade'] != 'Sem Classificação'), \n",
        "                             ['Faixa_Idade','Sexo','Sobreviveu']\n",
        "                            ].groupby(['Faixa_Idade','Sexo'],as_index = False).count())\n",
        "\n",
        "tit3['Percentual'] = round(tit3['Sobreviveu'] / tit3['Sobreviveu'].sum() * 100, 2)\n",
        "\n",
        "tit3['Percentual'] = pd.Series([\"{0:.2f}%\".format(val) for val in tit3['Percentual']])\n",
        "\n",
        "tit3.sort_values('Sobreviveu', ascending=False).head(5).reset_index(drop=True)"
      ],
      "metadata": {
        "colab": {
          "base_uri": "https://localhost:8080/",
          "height": 206
        },
        "id": "nplYDDf6Piw6",
        "outputId": "89713418-aadd-4e04-c722-15e280aa7352"
      },
      "execution_count": 305,
      "outputs": [
        {
          "output_type": "execute_result",
          "data": {
            "text/html": [
              "\n",
              "  <div id=\"df-67ded4b2-285d-42d2-a8aa-ae4c1dd62e0a\">\n",
              "    <div class=\"colab-df-container\">\n",
              "      <div>\n",
              "<style scoped>\n",
              "    .dataframe tbody tr th:only-of-type {\n",
              "        vertical-align: middle;\n",
              "    }\n",
              "\n",
              "    .dataframe tbody tr th {\n",
              "        vertical-align: top;\n",
              "    }\n",
              "\n",
              "    .dataframe thead th {\n",
              "        text-align: right;\n",
              "    }\n",
              "</style>\n",
              "<table border=\"1\" class=\"dataframe\">\n",
              "  <thead>\n",
              "    <tr style=\"text-align: right;\">\n",
              "      <th></th>\n",
              "      <th>Faixa_Idade</th>\n",
              "      <th>Sexo</th>\n",
              "      <th>Sobreviveu</th>\n",
              "      <th>Percentual</th>\n",
              "    </tr>\n",
              "  </thead>\n",
              "  <tbody>\n",
              "    <tr>\n",
              "      <th>0</th>\n",
              "      <td>Adulto</td>\n",
              "      <td>Mulher</td>\n",
              "      <td>88</td>\n",
              "      <td>30.34%</td>\n",
              "    </tr>\n",
              "    <tr>\n",
              "      <th>1</th>\n",
              "      <td>Jovem</td>\n",
              "      <td>Mulher</td>\n",
              "      <td>67</td>\n",
              "      <td>23.10%</td>\n",
              "    </tr>\n",
              "    <tr>\n",
              "      <th>2</th>\n",
              "      <td>Adulto</td>\n",
              "      <td>Homem</td>\n",
              "      <td>39</td>\n",
              "      <td>13.45%</td>\n",
              "    </tr>\n",
              "    <tr>\n",
              "      <th>3</th>\n",
              "      <td>Jovem</td>\n",
              "      <td>Homem</td>\n",
              "      <td>28</td>\n",
              "      <td>9.66%</td>\n",
              "    </tr>\n",
              "    <tr>\n",
              "      <th>4</th>\n",
              "      <td>Crianças</td>\n",
              "      <td>Homem</td>\n",
              "      <td>20</td>\n",
              "      <td>6.90%</td>\n",
              "    </tr>\n",
              "  </tbody>\n",
              "</table>\n",
              "</div>\n",
              "      <button class=\"colab-df-convert\" onclick=\"convertToInteractive('df-67ded4b2-285d-42d2-a8aa-ae4c1dd62e0a')\"\n",
              "              title=\"Convert this dataframe to an interactive table.\"\n",
              "              style=\"display:none;\">\n",
              "        \n",
              "  <svg xmlns=\"http://www.w3.org/2000/svg\" height=\"24px\"viewBox=\"0 0 24 24\"\n",
              "       width=\"24px\">\n",
              "    <path d=\"M0 0h24v24H0V0z\" fill=\"none\"/>\n",
              "    <path d=\"M18.56 5.44l.94 2.06.94-2.06 2.06-.94-2.06-.94-.94-2.06-.94 2.06-2.06.94zm-11 1L8.5 8.5l.94-2.06 2.06-.94-2.06-.94L8.5 2.5l-.94 2.06-2.06.94zm10 10l.94 2.06.94-2.06 2.06-.94-2.06-.94-.94-2.06-.94 2.06-2.06.94z\"/><path d=\"M17.41 7.96l-1.37-1.37c-.4-.4-.92-.59-1.43-.59-.52 0-1.04.2-1.43.59L10.3 9.45l-7.72 7.72c-.78.78-.78 2.05 0 2.83L4 21.41c.39.39.9.59 1.41.59.51 0 1.02-.2 1.41-.59l7.78-7.78 2.81-2.81c.8-.78.8-2.07 0-2.86zM5.41 20L4 18.59l7.72-7.72 1.47 1.35L5.41 20z\"/>\n",
              "  </svg>\n",
              "      </button>\n",
              "      \n",
              "  <style>\n",
              "    .colab-df-container {\n",
              "      display:flex;\n",
              "      flex-wrap:wrap;\n",
              "      gap: 12px;\n",
              "    }\n",
              "\n",
              "    .colab-df-convert {\n",
              "      background-color: #E8F0FE;\n",
              "      border: none;\n",
              "      border-radius: 50%;\n",
              "      cursor: pointer;\n",
              "      display: none;\n",
              "      fill: #1967D2;\n",
              "      height: 32px;\n",
              "      padding: 0 0 0 0;\n",
              "      width: 32px;\n",
              "    }\n",
              "\n",
              "    .colab-df-convert:hover {\n",
              "      background-color: #E2EBFA;\n",
              "      box-shadow: 0px 1px 2px rgba(60, 64, 67, 0.3), 0px 1px 3px 1px rgba(60, 64, 67, 0.15);\n",
              "      fill: #174EA6;\n",
              "    }\n",
              "\n",
              "    [theme=dark] .colab-df-convert {\n",
              "      background-color: #3B4455;\n",
              "      fill: #D2E3FC;\n",
              "    }\n",
              "\n",
              "    [theme=dark] .colab-df-convert:hover {\n",
              "      background-color: #434B5C;\n",
              "      box-shadow: 0px 1px 3px 1px rgba(0, 0, 0, 0.15);\n",
              "      filter: drop-shadow(0px 1px 2px rgba(0, 0, 0, 0.3));\n",
              "      fill: #FFFFFF;\n",
              "    }\n",
              "  </style>\n",
              "\n",
              "      <script>\n",
              "        const buttonEl =\n",
              "          document.querySelector('#df-67ded4b2-285d-42d2-a8aa-ae4c1dd62e0a button.colab-df-convert');\n",
              "        buttonEl.style.display =\n",
              "          google.colab.kernel.accessAllowed ? 'block' : 'none';\n",
              "\n",
              "        async function convertToInteractive(key) {\n",
              "          const element = document.querySelector('#df-67ded4b2-285d-42d2-a8aa-ae4c1dd62e0a');\n",
              "          const dataTable =\n",
              "            await google.colab.kernel.invokeFunction('convertToInteractive',\n",
              "                                                     [key], {});\n",
              "          if (!dataTable) return;\n",
              "\n",
              "          const docLinkHtml = 'Like what you see? Visit the ' +\n",
              "            '<a target=\"_blank\" href=https://colab.research.google.com/notebooks/data_table.ipynb>data table notebook</a>'\n",
              "            + ' to learn more about interactive tables.';\n",
              "          element.innerHTML = '';\n",
              "          dataTable['output_type'] = 'display_data';\n",
              "          await google.colab.output.renderOutput(dataTable, element);\n",
              "          const docLink = document.createElement('div');\n",
              "          docLink.innerHTML = docLinkHtml;\n",
              "          element.appendChild(docLink);\n",
              "        }\n",
              "      </script>\n",
              "    </div>\n",
              "  </div>\n",
              "  "
            ],
            "text/plain": [
              "  Faixa_Idade    Sexo  Sobreviveu Percentual\n",
              "0      Adulto  Mulher          88     30.34%\n",
              "1       Jovem  Mulher          67     23.10%\n",
              "2      Adulto   Homem          39     13.45%\n",
              "3       Jovem   Homem          28      9.66%\n",
              "4    Crianças   Homem          20      6.90%"
            ]
          },
          "metadata": {},
          "execution_count": 305
        }
      ]
    },
    {
      "cell_type": "markdown",
      "source": [
        "### **Conclusão:**\n",
        "\n",
        "Baseando-se nos sobreviventes podemos concluir que:\n",
        "\n",
        "*   **342 Pessoas sobreviveram** das 891 registradas.\n",
        "*   **233 Mulheres** - Foram a maioria por gênero.\n",
        "*   **136 Estavam na Primeira Classe** - Foram a maioria por classe\n",
        "*   **127 Adultos** - Foram a maioria por faixa etária\n",
        "\n",
        "Foram desconsiderados das análises que utilizam a faixa etária, **52 registros que não existiam a idade preenchida**. \n",
        "\n",
        "Ficando assim **290 Sobreviventes**.\n",
        "\n",
        "Com base nisso, o percentual de maior sobrevivência considerando o Gênero, Faixa Etária e Classe Social foi:\n",
        "\n",
        "\n",
        "\n",
        "\n",
        "\n",
        "--------"
      ],
      "metadata": {
        "id": "iUW3DTk9J67Q"
      }
    },
    {
      "cell_type": "code",
      "source": [
        "tit2.sort_values('Sobreviveu', ascending=False).head(1).reset_index(drop=True)"
      ],
      "metadata": {
        "colab": {
          "base_uri": "https://localhost:8080/",
          "height": 81
        },
        "id": "3pyGEgq2mXFl",
        "outputId": "07f2e7b0-9648-406d-fb87-e1282027f981"
      },
      "execution_count": 306,
      "outputs": [
        {
          "output_type": "execute_result",
          "data": {
            "text/html": [
              "\n",
              "  <div id=\"df-b5d69c26-e854-4acf-b293-f0755059212e\">\n",
              "    <div class=\"colab-df-container\">\n",
              "      <div>\n",
              "<style scoped>\n",
              "    .dataframe tbody tr th:only-of-type {\n",
              "        vertical-align: middle;\n",
              "    }\n",
              "\n",
              "    .dataframe tbody tr th {\n",
              "        vertical-align: top;\n",
              "    }\n",
              "\n",
              "    .dataframe thead th {\n",
              "        text-align: right;\n",
              "    }\n",
              "</style>\n",
              "<table border=\"1\" class=\"dataframe\">\n",
              "  <thead>\n",
              "    <tr style=\"text-align: right;\">\n",
              "      <th></th>\n",
              "      <th>Faixa_Idade</th>\n",
              "      <th>Sexo</th>\n",
              "      <th>Classe</th>\n",
              "      <th>Sobreviveu</th>\n",
              "      <th>Percentual</th>\n",
              "    </tr>\n",
              "  </thead>\n",
              "  <tbody>\n",
              "    <tr>\n",
              "      <th>0</th>\n",
              "      <td>Adulto</td>\n",
              "      <td>Mulher</td>\n",
              "      <td>1</td>\n",
              "      <td>51</td>\n",
              "      <td>17.59%</td>\n",
              "    </tr>\n",
              "  </tbody>\n",
              "</table>\n",
              "</div>\n",
              "      <button class=\"colab-df-convert\" onclick=\"convertToInteractive('df-b5d69c26-e854-4acf-b293-f0755059212e')\"\n",
              "              title=\"Convert this dataframe to an interactive table.\"\n",
              "              style=\"display:none;\">\n",
              "        \n",
              "  <svg xmlns=\"http://www.w3.org/2000/svg\" height=\"24px\"viewBox=\"0 0 24 24\"\n",
              "       width=\"24px\">\n",
              "    <path d=\"M0 0h24v24H0V0z\" fill=\"none\"/>\n",
              "    <path d=\"M18.56 5.44l.94 2.06.94-2.06 2.06-.94-2.06-.94-.94-2.06-.94 2.06-2.06.94zm-11 1L8.5 8.5l.94-2.06 2.06-.94-2.06-.94L8.5 2.5l-.94 2.06-2.06.94zm10 10l.94 2.06.94-2.06 2.06-.94-2.06-.94-.94-2.06-.94 2.06-2.06.94z\"/><path d=\"M17.41 7.96l-1.37-1.37c-.4-.4-.92-.59-1.43-.59-.52 0-1.04.2-1.43.59L10.3 9.45l-7.72 7.72c-.78.78-.78 2.05 0 2.83L4 21.41c.39.39.9.59 1.41.59.51 0 1.02-.2 1.41-.59l7.78-7.78 2.81-2.81c.8-.78.8-2.07 0-2.86zM5.41 20L4 18.59l7.72-7.72 1.47 1.35L5.41 20z\"/>\n",
              "  </svg>\n",
              "      </button>\n",
              "      \n",
              "  <style>\n",
              "    .colab-df-container {\n",
              "      display:flex;\n",
              "      flex-wrap:wrap;\n",
              "      gap: 12px;\n",
              "    }\n",
              "\n",
              "    .colab-df-convert {\n",
              "      background-color: #E8F0FE;\n",
              "      border: none;\n",
              "      border-radius: 50%;\n",
              "      cursor: pointer;\n",
              "      display: none;\n",
              "      fill: #1967D2;\n",
              "      height: 32px;\n",
              "      padding: 0 0 0 0;\n",
              "      width: 32px;\n",
              "    }\n",
              "\n",
              "    .colab-df-convert:hover {\n",
              "      background-color: #E2EBFA;\n",
              "      box-shadow: 0px 1px 2px rgba(60, 64, 67, 0.3), 0px 1px 3px 1px rgba(60, 64, 67, 0.15);\n",
              "      fill: #174EA6;\n",
              "    }\n",
              "\n",
              "    [theme=dark] .colab-df-convert {\n",
              "      background-color: #3B4455;\n",
              "      fill: #D2E3FC;\n",
              "    }\n",
              "\n",
              "    [theme=dark] .colab-df-convert:hover {\n",
              "      background-color: #434B5C;\n",
              "      box-shadow: 0px 1px 3px 1px rgba(0, 0, 0, 0.15);\n",
              "      filter: drop-shadow(0px 1px 2px rgba(0, 0, 0, 0.3));\n",
              "      fill: #FFFFFF;\n",
              "    }\n",
              "  </style>\n",
              "\n",
              "      <script>\n",
              "        const buttonEl =\n",
              "          document.querySelector('#df-b5d69c26-e854-4acf-b293-f0755059212e button.colab-df-convert');\n",
              "        buttonEl.style.display =\n",
              "          google.colab.kernel.accessAllowed ? 'block' : 'none';\n",
              "\n",
              "        async function convertToInteractive(key) {\n",
              "          const element = document.querySelector('#df-b5d69c26-e854-4acf-b293-f0755059212e');\n",
              "          const dataTable =\n",
              "            await google.colab.kernel.invokeFunction('convertToInteractive',\n",
              "                                                     [key], {});\n",
              "          if (!dataTable) return;\n",
              "\n",
              "          const docLinkHtml = 'Like what you see? Visit the ' +\n",
              "            '<a target=\"_blank\" href=https://colab.research.google.com/notebooks/data_table.ipynb>data table notebook</a>'\n",
              "            + ' to learn more about interactive tables.';\n",
              "          element.innerHTML = '';\n",
              "          dataTable['output_type'] = 'display_data';\n",
              "          await google.colab.output.renderOutput(dataTable, element);\n",
              "          const docLink = document.createElement('div');\n",
              "          docLink.innerHTML = docLinkHtml;\n",
              "          element.appendChild(docLink);\n",
              "        }\n",
              "      </script>\n",
              "    </div>\n",
              "  </div>\n",
              "  "
            ],
            "text/plain": [
              "  Faixa_Idade    Sexo  Classe  Sobreviveu Percentual\n",
              "0      Adulto  Mulher       1          51     17.59%"
            ]
          },
          "metadata": {},
          "execution_count": 306
        }
      ]
    },
    {
      "cell_type": "markdown",
      "source": [
        "### **Pergunta Final:**"
      ],
      "metadata": {
        "id": "SlF9FWybKLl3"
      }
    },
    {
      "cell_type": "markdown",
      "source": [
        "#### ***Naquela época quais as chances de eu ter sobrevivido ao naufrágio?***"
      ],
      "metadata": {
        "id": "A4EEMisomwis"
      }
    },
    {
      "cell_type": "markdown",
      "source": [
        "##### 1 - Criando funções para validações dos Inputs de Sexo, Idade e Classe."
      ],
      "metadata": {
        "id": "mG5lafNrw06y"
      }
    },
    {
      "cell_type": "code",
      "source": [
        "def ValidaSexo(msg):\n",
        "\tok = False\n",
        "\tvalor = 0\n",
        "\t\n",
        "\twhile True:\n",
        "\t\tnr = str(input(msg))\n",
        "\n",
        "\t\tif nr.isnumeric() and nr in ('1','2'):\n",
        "\t\t\tvalor = int(nr)\n",
        "\t\t\tok = True\n",
        "\t\telse:\n",
        "\t\t\tprint('\\033[0;31mErro! Digite 1 ou 2.\\033[m')\n",
        "   \n",
        "\t\tif ok:\n",
        "\t\t\tbreak\n",
        "\treturn valor\n",
        "\n",
        "def ValidaIdade(msg):\n",
        "\tok = False\n",
        "\tvalor = 0\n",
        "\t\n",
        "\twhile True:\n",
        "\t\tnr = str(input(msg))\n",
        "\n",
        "\t\tif nr.isnumeric() and int(nr) > 0 :\n",
        "\t\t\tvalor = int(nr)\n",
        "\t\t\tok = True\n",
        "\t\telse:\n",
        "\t\t\tprint('\\033[0;31mErro! Digite um número maior que zero.\\033[m')\n",
        "   \n",
        "\t\tif ok:\n",
        "\t\t\tbreak\n",
        "\treturn valor\n",
        "\n",
        "def ValidaClasse(msg):\n",
        "\tok = False\n",
        "\tvalor = 0\n",
        "\t\n",
        "\twhile True:\n",
        "\t\tnr = str(input(msg))\n",
        "\n",
        "\t\tif nr.isnumeric() and nr in ('1','2','3'):\n",
        "\t\t\tvalor = int(nr)\n",
        "\t\t\tok = True\n",
        "\t\telse:\n",
        "\t\t\tprint('\\033[0;31mErro! Digite 1, 2 ou 3.\\033[m')\n",
        "   \n",
        "\t\tif ok:\n",
        "\t\t\tbreak\n",
        "\treturn valor\n"
      ],
      "metadata": {
        "id": "oeMrV_V1sSlC"
      },
      "execution_count": 307,
      "outputs": []
    },
    {
      "cell_type": "markdown",
      "source": [
        "##### 2 - Coletando as informações pessoais."
      ],
      "metadata": {
        "id": "bHATQc95xWhs"
      }
    },
    {
      "cell_type": "code",
      "source": [
        "Sexo    = ValidaSexo(\"Informe seu Sexo: \\n    1 --> Homem \\n    2 --> Mulher \\n\")\n",
        "Idade   = ValidaIdade(\"\\n Informe sua Idade:\\n\")\n",
        "Classe  = ValidaClasse(\"\\n Informe sua Classe Social: \\n    1 --> Classe Alta   \\n    2 --> Classe Média \\n    3 --> Classe Baixa \\n\")"
      ],
      "metadata": {
        "colab": {
          "base_uri": "https://localhost:8080/"
        },
        "id": "3-m6VAK8xBxL",
        "outputId": "b75ca671-4445-4d06-a070-f1c4b8a31336"
      },
      "execution_count": 308,
      "outputs": [
        {
          "name": "stdout",
          "output_type": "stream",
          "text": [
            "Informe seu Sexo: \n",
            "    1 --> Homem \n",
            "    2 --> Mulher \n",
            "1\n",
            "\n",
            " Informe sua Idade:\n",
            "2\n",
            "\n",
            " Informe sua Classe Social: \n",
            "    1 --> Classe Alta   \n",
            "    2 --> Classe Média \n",
            "    3 --> Classe Baixa \n",
            "3\n"
          ]
        }
      ]
    },
    {
      "cell_type": "markdown",
      "source": [
        "##### 3 - Tratando os inputs."
      ],
      "metadata": {
        "id": "Ns3mlxS99ZKX"
      }
    },
    {
      "cell_type": "code",
      "source": [
        "if Sexo == 1:\n",
        "  Sexo = 'Homem'\n",
        "else:\n",
        "  Sexo = 'Mulher'\n",
        "\n",
        "if Idade > 0 and Idade < 12:\n",
        "  Idade = 'Crianças'\n",
        "elif Idade >= 12 and Idade < 18:\n",
        "  Idade = 'Adolescente'\n",
        "elif Idade >= 18 and Idade < 30:\n",
        "  Idade = 'Jovem'\n",
        "elif Idade >= 30 and Idade < 60:\n",
        "  Idade = 'Adulto'\n",
        "else:\n",
        "  Idade = 'Idoso'\n"
      ],
      "metadata": {
        "id": "MTJxw9Bj9ha7"
      },
      "execution_count": 309,
      "outputs": []
    },
    {
      "cell_type": "markdown",
      "source": [
        "##### 4 - Respondendo a pergunta."
      ],
      "metadata": {
        "id": "OAuWOXl9PitA"
      }
    },
    {
      "cell_type": "code",
      "source": [
        "if  tit2.loc[(tit2['Sexo'] == Sexo) & (tit2['Faixa_Idade'] == Idade) & (tit2['Classe'] == Classe),:].empty :\n",
        "    print('---------------------------------------------------------------------------------------------------------------------')\n",
        "    print('Sem Sobreviventes pelo Tipo de Classe --> ' + str(Classe) + ', Sexo --> ' + Sexo + ' e Faixa Etária --> ' + str(Idade))\n",
        "    print('---------------------------------------------------------------------------------------------------------------------')\n",
        "    print('---------------------------------------------------------------------------------------------------------------------')\n",
        "    print('Pelo Sexo --> ' + Sexo + ' e Faixa Etária --> ' + str(Idade) + ', o percentual de sobrevivência seria de ' \n",
        "          +str(tit3.loc[(tit3['Sexo'] == Sexo) & (tit3['Faixa_Idade'] == Idade),'Percentual'].to_list()))   \n",
        "    print('---------------------------------------------------------------------------------------------------------------------')\n",
        "\n",
        "else:\n",
        "    print('---------------------------------------------------------------------------------------------------------------------')\n",
        "    print('Pelo Tipo de Classe --> ' + str(Classe) + ', Sexo --> ' + Sexo + ' e Faixa Etária --> ' + str(Idade) + \n",
        "          ', o percentual de sobrevivência seria de ' \n",
        "          +str(tit2.loc[(tit2['Sexo'] == Sexo) & (tit2['Faixa_Idade'] == Idade) & (tit2['Classe'] == Classe),'Percentual'].to_list()))   \n",
        "    print('---------------------------------------------------------------------------------------------------------------------')\n"
      ],
      "metadata": {
        "id": "k417zI28htDV",
        "colab": {
          "base_uri": "https://localhost:8080/"
        },
        "outputId": "13fc1478-1acd-43a7-9834-62b2b714ef0e"
      },
      "execution_count": 310,
      "outputs": [
        {
          "output_type": "stream",
          "name": "stdout",
          "text": [
            "---------------------------------------------------------------------------------------------------------------------\n",
            "Pelo Tipo de Classe --> 3, Sexo --> Homem e Faixa Etária --> Crianças, o percentual de sobrevivência seria de ['2.76%']\n",
            "---------------------------------------------------------------------------------------------------------------------\n"
          ]
        }
      ]
    }
  ]
}